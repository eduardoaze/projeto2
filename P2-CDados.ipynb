{
 "cells": [
  {
   "cell_type": "markdown",
   "metadata": {},
   "source": [
    "___\n",
    "# Projeto 2 - Ciência dos Dados\n",
    "Grupo: Bruno Besnosik, Eduardo Zetone, Enzo Del Manto, Guilherme Pinheiro"
   ]
  },
  {
   "cell_type": "markdown",
   "metadata": {},
   "source": [
    "## Objetivo do projeto:\n",
    "\n",
    "- Testar a possibilidade de prever o desempenho de um aluno, baseando-se em suas relações sociais e acadêmicas.\n",
    "- O nosso target é quantitativo (G3), já que queremos prever uma informação numérica. "
   ]
  },
  {
   "cell_type": "code",
   "execution_count": 2,
   "metadata": {},
   "outputs": [],
   "source": [
    "# Importar bibliotecas necessárias\n",
    "import pandas as pd \n",
    "import seaborn as sns \n",
    "import matplotlib.pyplot as plt\n",
    "import numpy as np\n",
    "from math import *"
   ]
  },
  {
   "cell_type": "code",
   "execution_count": 5,
   "metadata": {},
   "outputs": [],
   "source": [
    "# Abrir o dataset e converter em dataframe\n",
    "df = pd.read_csv('data/student-mat.csv')"
   ]
  },
  {
   "cell_type": "markdown",
   "metadata": {},
   "source": [
    "## Informações do dataset\n",
    "- O dataset foi gerado a partir de um questionário feito com estudantes da disciplina matemática do ensino médio.   \n",
    "- O arquivo contém informações pessoais dos estudantes, tanto sobre sua vida social e acadêmica, quanto sobre suas relações interfamiliares, amorosas e etc.\n",
    "\n",
    "https://www.kaggle.com/uciml/student-alcohol-consumption"
   ]
  },
  {
   "cell_type": "markdown",
   "metadata": {},
   "source": [
    "## Índice do dataset\n",
    "- school - Escola do estudante (binário: 'GP' - Gabriel Pereira ou 'MS' - Mousinho da Silveira)\n",
    "- sex - Gênero (binário: 'F' - feminino ou 'M' - masculino)\n",
    "- age - Idade (numérico: de 15 até 22)\n",
    "- address - Tipo de endereço (binário: 'U' - urbano ou 'R' - rural)\n",
    "- famsize - Número de membros na família (binário: 'LE3' (0) - menor ou igual a 3 ou 'GT3' (1) - maior que 3)\n",
    "- Pstatus - Estado de coabitação dos pais (binário: 'T' - Morando juntos ou 'A' - Morando separados)\n",
    "- Medu - Nível de educação da mãe (numérico: 0 - Nenhuma, 1 - Ensino Primário (Quarto ano), 2 – Quinto ao nono ano, 3 – Ensino secundário ou 4 – Ensino Superior)\n",
    "- Fedu - Nível de educação do pai (numérico: 0 - Nenhuma, 1 - Ensino Primário (Quarto ano), 2 – Quinto ao nono ano, 3 – Ensino secundário ou 4 – Ensino Superior)\n",
    "- Mjob - Trabalho da mãe (nominal: 'teacher', 'health' care related, civil 'services' (e.g. administrative or police), 'at_home' or 'other')\n",
    "- Fjob - Trabalho do pai (nominal: 'teacher', 'health' care related, civil 'services' (e.g. administrative or police), 'at_home' or 'other')\n",
    "- reason - Razão de ter escolhido essa escola (nominal: close to 'home', school 'reputation', 'course' preference or 'other')\n",
    "- guardian - Guardião Legal do estudante (nominal: 'mother', 'father' or 'other')\n",
    "- traveltime -Tempo de viagem de casa até a escola (numérico: 1 - Até 15 minutos, 2 - 15 a 30 minutos, 3 - 30 minutos até 1 hora, or 4 - mais que 1 hora)\n",
    "- studytime - Tempo de estudo semanal (numérico: 1 - Até 2 horas, 2 - 2 a 5 horas, 3 - 5 a 10 horas, or 4 - mais que 10 horas)\n",
    "- failures - Número de reprovamentos anteriores (numérico: n se 1<=n<3, caso contrário-4)\n",
    "- schoolsup - Suporte educacional extra (binário: yes or no)\n",
    "- famsup - Suporte educacional da família (binário: yes or no)\n",
    "- paid - Se faz aulas particulares da disciplina (binário: yes or no)\n",
    "- activities - Se faz atividades extra-curriculares (binário: yes or no)\n",
    "- nursery - Se fez escola de enfermagem (binário: yes or no)\n",
    "- higher - Se quer ter ensino superior (binário: yes or no)\n",
    "- internet - Se tem acesso à internet em casa (binário: yes or no)\n",
    "- romantic - Se está em um relacionamento amoroso (binário: yes or no)\n",
    "- famrel - Qualidade das relações familiares (numérico: De 1 - muito ruins até 5 - excelentes)\n",
    "- freetime - Tempo livre depois da escola (numérico: De 1 - pouco até 5 - muito)\n",
    "- goout - Sair com os amigos (numérico: De 1 - pouco até 5 - muito)\n",
    "- Dalc - Consumo de álcool em dia de semana (numérico: De 1 - baixo até 5 - elevado)\n",
    "- Walc - Consumo de álcool no fim de semana (numérico: from 1 - baixo até 5 - elevado)\n",
    "- health - Estado de saúde atual (numérico: De 1 - Muito ruim até 5 - Muito bom)\n",
    "- absences - Número de faltas na escola (numérico: De 0 até 93)\n",
    "- G1: Nota no primeiro semestre (númerico: De 0 até 20) \n",
    "- G2: Nota no segundo semestre (númerico: De 0 até 20)\n",
    "- G3: Nota final (numérico: De 0 até 20, output target) "
   ]
  }
 ],
 "metadata": {
  "kernelspec": {
   "display_name": "Python 3",
   "language": "python",
   "name": "python3"
  },
  "language_info": {
   "codemirror_mode": {
    "name": "ipython",
    "version": 3
   },
   "file_extension": ".py",
   "mimetype": "text/x-python",
   "name": "python",
   "nbconvert_exporter": "python",
   "pygments_lexer": "ipython3",
   "version": "3.8.8"
  }
 },
 "nbformat": 4,
 "nbformat_minor": 4
}
